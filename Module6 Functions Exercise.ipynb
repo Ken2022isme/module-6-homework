{
 "cells": [
  {
   "cell_type": "markdown",
   "metadata": {},
   "source": [
    "1. Round 4.5667 to the nearest hundreth using a build-in function, round()."
   ]
  },
  {
   "cell_type": "code",
   "execution_count": 1,
   "metadata": {},
   "outputs": [
    {
     "name": "stdout",
     "output_type": "stream",
     "text": [
      "4.57\n"
     ]
    }
   ],
   "source": [
    "print(round(4.5667, 2))"
   ]
  },
  {
   "cell_type": "markdown",
   "metadata": {},
   "source": [
    "2. Convert \"657\" to an integer data type"
   ]
  },
  {
   "cell_type": "code",
   "execution_count": 2,
   "metadata": {},
   "outputs": [
    {
     "name": "stdout",
     "output_type": "stream",
     "text": [
      "657\n"
     ]
    }
   ],
   "source": [
    "num=int(\"657\")\n",
    "print(num)"
   ]
  },
  {
   "cell_type": "markdown",
   "metadata": {},
   "source": [
    "3.\n",
    "Write a program to get two numbers from a user. Then, create a secret code where a code consists of 6 numbers and each number is randomly generated number between two numbers from a user. "
   ]
  },
  {
   "cell_type": "code",
   "execution_count": 3,
   "metadata": {},
   "outputs": [
    {
     "name": "stdout",
     "output_type": "stream",
     "text": [
      "Please enter 2 numbers separated by a space: 1 10\n",
      "5 2 5 4 8 2\n"
     ]
    }
   ],
   "source": [
    "import random as rand\n",
    "num1, num2=input(\"Please enter 2 numbers separated by a space: \").split()\n",
    "num1=int(num1)\n",
    "num2=int(num2)\n",
    "\n",
    "def code():\n",
    "    return(rand.randint(num1, num2))\n",
    "\n",
    "print(code(),code(),code(), code(), code(), code())\n"
   ]
  },
  {
   "cell_type": "markdown",
   "metadata": {},
   "source": [
    "4.\n",
    "Write a program to center align below text where number of characters per line is 40:\n",
    "\n",
    "    Hickory, dickory, dock,\n",
    "    The mouse ran up the clock.\n",
    "    The clock struck one,\n",
    "    The mouse ran down,\n",
    "    Hickory, dickory, dock\n",
    "\n",
    "<b>Do not use string's center method! </b>"
   ]
  },
  {
   "cell_type": "code",
   "execution_count": 4,
   "metadata": {},
   "outputs": [
    {
     "name": "stdout",
     "output_type": "stream",
     "text": [
      "--------Hickory, dickory, dock,--------\n",
      "------The mouse ran up the clock.------\n",
      "---------The clock struck one,---------\n",
      "----------The mouse ran down,----------\n",
      "---------Hickory, dickory, dock---------\n"
     ]
    }
   ],
   "source": [
    "line1 = \"Hickory, dickory, dock,\"\n",
    "line2 = \"The mouse ran up the clock.\"\n",
    "line3 = \"The clock struck one,\"\n",
    "line4 = \"The mouse ran down,\"\n",
    "line5 = \"Hickory, dickory, dock\"\n",
    "\n",
    "def centering(line):\n",
    "    nspace=int((40-len(line))/2)\n",
    "    print(nspace * '-' + line + nspace * '-')\n",
    "    \n",
    "centering(line1)\n",
    "centering(line2)\n",
    "centering(line3)\n",
    "centering(line4)\n",
    "centering(line5)\n"
   ]
  },
  {
   "cell_type": "markdown",
   "metadata": {},
   "source": [
    "5. Write a function to calculate the miles per gallon.\n",
    "Get a miles driven and gallons used from a user and call your function to calculate the miles per gallon. "
   ]
  },
  {
   "cell_type": "code",
   "execution_count": 5,
   "metadata": {},
   "outputs": [
    {
     "name": "stdout",
     "output_type": "stream",
     "text": [
      "Please enter miles driven and gallons used separated by a space: 100 2\n",
      "Miles per gallon is: 50.0\n"
     ]
    }
   ],
   "source": [
    "def miles_per_gallon(miles, gallons):\n",
    "    miles=float(miles)\n",
    "    gallons=float(gallons)\n",
    "    print(f\"Miles per gallon is: {miles/gallons:.1f}\")\n",
    "    \n",
    "miles, gallons=input(\"Please enter miles driven and gallons used separated by a space: \").split()\n",
    "miles_per_gallon(miles,gallons )"
   ]
  },
  {
   "cell_type": "code",
   "execution_count": null,
   "metadata": {},
   "outputs": [],
   "source": []
  }
 ],
 "metadata": {
  "kernelspec": {
   "display_name": "Python 3",
   "language": "python",
   "name": "python3"
  },
  "language_info": {
   "codemirror_mode": {
    "name": "ipython",
    "version": 3
   },
   "file_extension": ".py",
   "mimetype": "text/x-python",
   "name": "python",
   "nbconvert_exporter": "python",
   "pygments_lexer": "ipython3",
   "version": "3.7.6"
  }
 },
 "nbformat": 4,
 "nbformat_minor": 4
}
